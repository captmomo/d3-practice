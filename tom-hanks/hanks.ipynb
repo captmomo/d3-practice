{
 "cells": [
  {
   "cell_type": "code",
   "execution_count": 2,
   "metadata": {},
   "outputs": [],
   "source": [
    "html = open(\"tables.html\", encoding='utf-8').read()"
   ]
  },
  {
   "cell_type": "code",
   "execution_count": 3,
   "metadata": {},
   "outputs": [],
   "source": [
    "import pandas as pd"
   ]
  },
  {
   "cell_type": "code",
   "execution_count": 4,
   "metadata": {},
   "outputs": [],
   "source": [
    "dfs = pd.read_html(html)"
   ]
  },
  {
   "cell_type": "code",
   "execution_count": 5,
   "metadata": {},
   "outputs": [
    {
     "output_type": "execute_result",
     "data": {
      "text/plain": "1"
     },
     "metadata": {},
     "execution_count": 5
    }
   ],
   "source": [
    "len(dfs)"
   ]
  },
  {
   "cell_type": "code",
   "execution_count": 6,
   "metadata": {},
   "outputs": [
    {
     "output_type": "execute_result",
     "data": {
      "text/plain": "              Year\n              Year\ncount    78.000000\nmean   2003.756410\nstd      11.218243\nmin    1980.000000\n25%    1994.250000\n50%    2006.000000\n75%    2012.750000\nmax    2021.000000",
      "text/html": "<div>\n<style scoped>\n    .dataframe tbody tr th:only-of-type {\n        vertical-align: middle;\n    }\n\n    .dataframe tbody tr th {\n        vertical-align: top;\n    }\n\n    .dataframe thead tr th {\n        text-align: left;\n    }\n</style>\n<table border=\"1\" class=\"dataframe\">\n  <thead>\n    <tr>\n      <th></th>\n      <th>Year</th>\n    </tr>\n    <tr>\n      <th></th>\n      <th>Year</th>\n    </tr>\n  </thead>\n  <tbody>\n    <tr>\n      <th>count</th>\n      <td>78.000000</td>\n    </tr>\n    <tr>\n      <th>mean</th>\n      <td>2003.756410</td>\n    </tr>\n    <tr>\n      <th>std</th>\n      <td>11.218243</td>\n    </tr>\n    <tr>\n      <th>min</th>\n      <td>1980.000000</td>\n    </tr>\n    <tr>\n      <th>25%</th>\n      <td>1994.250000</td>\n    </tr>\n    <tr>\n      <th>50%</th>\n      <td>2006.000000</td>\n    </tr>\n    <tr>\n      <th>75%</th>\n      <td>2012.750000</td>\n    </tr>\n    <tr>\n      <th>max</th>\n      <td>2021.000000</td>\n    </tr>\n  </tbody>\n</table>\n</div>"
     },
     "metadata": {},
     "execution_count": 6
    }
   ],
   "source": [
    "hanks = dfs[0].copy()\n",
    "hanks.describe()"
   ]
  },
  {
   "cell_type": "code",
   "execution_count": 7,
   "metadata": {},
   "outputs": [
    {
     "output_type": "execute_result",
     "data": {
      "text/plain": "   Year                      Title Credited as                 \\\n   Year                      Title       Actor Producer Other   \n0  1980      He Knows You're Alone         Yes       No    No   \n1  1984                     Splash         Yes       No    No   \n2  1984             Bachelor Party         Yes       No    No   \n3  1985  The Man with One Red Shoe         Yes       No    No   \n4  1985                 Volunteers         Yes       No    No   \n\n                               Notes Ref(s)  \n                       Role(s) Notes Ref(s)  \n0                       Elliot   NaN    [2]  \n1                  Allen Bauer   NaN    [3]  \n2                  Rick Gassko   NaN   [30]  \n3          Richard Harlan Drew   NaN   [31]  \n4  Lawrence Whatley Bourne III   NaN   [32]  ",
      "text/html": "<div>\n<style scoped>\n    .dataframe tbody tr th:only-of-type {\n        vertical-align: middle;\n    }\n\n    .dataframe tbody tr th {\n        vertical-align: top;\n    }\n\n    .dataframe thead tr th {\n        text-align: left;\n    }\n</style>\n<table border=\"1\" class=\"dataframe\">\n  <thead>\n    <tr>\n      <th></th>\n      <th>Year</th>\n      <th>Title</th>\n      <th colspan=\"4\" halign=\"left\">Credited as</th>\n      <th>Notes</th>\n      <th>Ref(s)</th>\n    </tr>\n    <tr>\n      <th></th>\n      <th>Year</th>\n      <th>Title</th>\n      <th>Actor</th>\n      <th>Producer</th>\n      <th>Other</th>\n      <th>Role(s)</th>\n      <th>Notes</th>\n      <th>Ref(s)</th>\n    </tr>\n  </thead>\n  <tbody>\n    <tr>\n      <th>0</th>\n      <td>1980</td>\n      <td>He Knows You're Alone</td>\n      <td>Yes</td>\n      <td>No</td>\n      <td>No</td>\n      <td>Elliot</td>\n      <td>NaN</td>\n      <td>[2]</td>\n    </tr>\n    <tr>\n      <th>1</th>\n      <td>1984</td>\n      <td>Splash</td>\n      <td>Yes</td>\n      <td>No</td>\n      <td>No</td>\n      <td>Allen Bauer</td>\n      <td>NaN</td>\n      <td>[3]</td>\n    </tr>\n    <tr>\n      <th>2</th>\n      <td>1984</td>\n      <td>Bachelor Party</td>\n      <td>Yes</td>\n      <td>No</td>\n      <td>No</td>\n      <td>Rick Gassko</td>\n      <td>NaN</td>\n      <td>[30]</td>\n    </tr>\n    <tr>\n      <th>3</th>\n      <td>1985</td>\n      <td>The Man with One Red Shoe</td>\n      <td>Yes</td>\n      <td>No</td>\n      <td>No</td>\n      <td>Richard Harlan Drew</td>\n      <td>NaN</td>\n      <td>[31]</td>\n    </tr>\n    <tr>\n      <th>4</th>\n      <td>1985</td>\n      <td>Volunteers</td>\n      <td>Yes</td>\n      <td>No</td>\n      <td>No</td>\n      <td>Lawrence Whatley Bourne III</td>\n      <td>NaN</td>\n      <td>[32]</td>\n    </tr>\n  </tbody>\n</table>\n</div>"
     },
     "metadata": {},
     "execution_count": 7
    }
   ],
   "source": [
    "hanks.head()"
   ]
  },
  {
   "cell_type": "code",
   "execution_count": 10,
   "metadata": {},
   "outputs": [
    {
     "output_type": "stream",
     "name": "stdout",
     "text": "('Year', 'Year')\n('Title', 'Title')\n('Credited as', 'Actor')\n('Credited as', 'Producer')\n('Credited as', 'Other')\n('Credited as', 'Role(s)')\n('Notes', 'Notes')\n('Ref(s)', 'Ref(s)')\n"
    }
   ],
   "source": [
    "for col in hanks.columns:\n",
    "    print(col)"
   ]
  },
  {
   "cell_type": "code",
   "execution_count": 13,
   "metadata": {},
   "outputs": [
    {
     "output_type": "execute_result",
     "data": {
      "text/plain": "   year                      title actor producer others  \\\n0  1980      He Knows You're Alone   Yes       No     No   \n1  1984                     Splash   Yes       No     No   \n2  1984             Bachelor Party   Yes       No     No   \n3  1985  The Man with One Red Shoe   Yes       No     No   \n4  1985                 Volunteers   Yes       No     No   \n\n                          role notes   ref  \n0                       Elliot   NaN   [2]  \n1                  Allen Bauer   NaN   [3]  \n2                  Rick Gassko   NaN  [30]  \n3          Richard Harlan Drew   NaN  [31]  \n4  Lawrence Whatley Bourne III   NaN  [32]  ",
      "text/html": "<div>\n<style scoped>\n    .dataframe tbody tr th:only-of-type {\n        vertical-align: middle;\n    }\n\n    .dataframe tbody tr th {\n        vertical-align: top;\n    }\n\n    .dataframe thead th {\n        text-align: right;\n    }\n</style>\n<table border=\"1\" class=\"dataframe\">\n  <thead>\n    <tr style=\"text-align: right;\">\n      <th></th>\n      <th>year</th>\n      <th>title</th>\n      <th>actor</th>\n      <th>producer</th>\n      <th>others</th>\n      <th>role</th>\n      <th>notes</th>\n      <th>ref</th>\n    </tr>\n  </thead>\n  <tbody>\n    <tr>\n      <th>0</th>\n      <td>1980</td>\n      <td>He Knows You're Alone</td>\n      <td>Yes</td>\n      <td>No</td>\n      <td>No</td>\n      <td>Elliot</td>\n      <td>NaN</td>\n      <td>[2]</td>\n    </tr>\n    <tr>\n      <th>1</th>\n      <td>1984</td>\n      <td>Splash</td>\n      <td>Yes</td>\n      <td>No</td>\n      <td>No</td>\n      <td>Allen Bauer</td>\n      <td>NaN</td>\n      <td>[3]</td>\n    </tr>\n    <tr>\n      <th>2</th>\n      <td>1984</td>\n      <td>Bachelor Party</td>\n      <td>Yes</td>\n      <td>No</td>\n      <td>No</td>\n      <td>Rick Gassko</td>\n      <td>NaN</td>\n      <td>[30]</td>\n    </tr>\n    <tr>\n      <th>3</th>\n      <td>1985</td>\n      <td>The Man with One Red Shoe</td>\n      <td>Yes</td>\n      <td>No</td>\n      <td>No</td>\n      <td>Richard Harlan Drew</td>\n      <td>NaN</td>\n      <td>[31]</td>\n    </tr>\n    <tr>\n      <th>4</th>\n      <td>1985</td>\n      <td>Volunteers</td>\n      <td>Yes</td>\n      <td>No</td>\n      <td>No</td>\n      <td>Lawrence Whatley Bourne III</td>\n      <td>NaN</td>\n      <td>[32]</td>\n    </tr>\n  </tbody>\n</table>\n</div>"
     },
     "metadata": {},
     "execution_count": 13
    }
   ],
   "source": [
    "hanks.columns = ['year', 'title', 'actor', 'producer', 'others', 'role', 'notes', 'ref']\n",
    "hanks.head()"
   ]
  },
  {
   "cell_type": "code",
   "execution_count": 14,
   "metadata": {},
   "outputs": [],
   "source": [
    "new =hanks[hanks['actor']=='Yes'].copy()"
   ]
  },
  {
   "cell_type": "code",
   "execution_count": 15,
   "metadata": {},
   "outputs": [
    {
     "output_type": "execute_result",
     "data": {
      "text/plain": "   year                      title actor producer others  \\\n0  1980      He Knows You're Alone   Yes       No     No   \n1  1984                     Splash   Yes       No     No   \n2  1984             Bachelor Party   Yes       No     No   \n3  1985  The Man with One Red Shoe   Yes       No     No   \n4  1985                 Volunteers   Yes       No     No   \n\n                          role notes   ref  \n0                       Elliot   NaN   [2]  \n1                  Allen Bauer   NaN   [3]  \n2                  Rick Gassko   NaN  [30]  \n3          Richard Harlan Drew   NaN  [31]  \n4  Lawrence Whatley Bourne III   NaN  [32]  ",
      "text/html": "<div>\n<style scoped>\n    .dataframe tbody tr th:only-of-type {\n        vertical-align: middle;\n    }\n\n    .dataframe tbody tr th {\n        vertical-align: top;\n    }\n\n    .dataframe thead th {\n        text-align: right;\n    }\n</style>\n<table border=\"1\" class=\"dataframe\">\n  <thead>\n    <tr style=\"text-align: right;\">\n      <th></th>\n      <th>year</th>\n      <th>title</th>\n      <th>actor</th>\n      <th>producer</th>\n      <th>others</th>\n      <th>role</th>\n      <th>notes</th>\n      <th>ref</th>\n    </tr>\n  </thead>\n  <tbody>\n    <tr>\n      <th>0</th>\n      <td>1980</td>\n      <td>He Knows You're Alone</td>\n      <td>Yes</td>\n      <td>No</td>\n      <td>No</td>\n      <td>Elliot</td>\n      <td>NaN</td>\n      <td>[2]</td>\n    </tr>\n    <tr>\n      <th>1</th>\n      <td>1984</td>\n      <td>Splash</td>\n      <td>Yes</td>\n      <td>No</td>\n      <td>No</td>\n      <td>Allen Bauer</td>\n      <td>NaN</td>\n      <td>[3]</td>\n    </tr>\n    <tr>\n      <th>2</th>\n      <td>1984</td>\n      <td>Bachelor Party</td>\n      <td>Yes</td>\n      <td>No</td>\n      <td>No</td>\n      <td>Rick Gassko</td>\n      <td>NaN</td>\n      <td>[30]</td>\n    </tr>\n    <tr>\n      <th>3</th>\n      <td>1985</td>\n      <td>The Man with One Red Shoe</td>\n      <td>Yes</td>\n      <td>No</td>\n      <td>No</td>\n      <td>Richard Harlan Drew</td>\n      <td>NaN</td>\n      <td>[31]</td>\n    </tr>\n    <tr>\n      <th>4</th>\n      <td>1985</td>\n      <td>Volunteers</td>\n      <td>Yes</td>\n      <td>No</td>\n      <td>No</td>\n      <td>Lawrence Whatley Bourne III</td>\n      <td>NaN</td>\n      <td>[32]</td>\n    </tr>\n  </tbody>\n</table>\n</div>"
     },
     "metadata": {},
     "execution_count": 15
    }
   ],
   "source": [
    "new.head()"
   ]
  },
  {
   "cell_type": "code",
   "execution_count": 23,
   "metadata": {},
   "outputs": [
    {
     "output_type": "error",
     "ename": "KeyError",
     "evalue": "\"['producer' 'others' 'notes' 'ref'] not found in axis\"",
     "traceback": [
      "\u001b[1;31m---------------------------------------------------------------------------\u001b[0m",
      "\u001b[1;31mKeyError\u001b[0m                                  Traceback (most recent call last)",
      "\u001b[1;32m<ipython-input-23-f5367ee33f78>\u001b[0m in \u001b[0;36m<module>\u001b[1;34m\u001b[0m\n\u001b[1;32m----> 1\u001b[1;33m \u001b[0mnew\u001b[0m\u001b[1;33m.\u001b[0m\u001b[0mdrop\u001b[0m\u001b[1;33m(\u001b[0m\u001b[1;33m[\u001b[0m\u001b[1;34m'producer'\u001b[0m\u001b[1;33m,\u001b[0m \u001b[1;34m'others'\u001b[0m\u001b[1;33m,\u001b[0m\u001b[1;34m'notes'\u001b[0m\u001b[1;33m,\u001b[0m \u001b[1;34m'ref'\u001b[0m\u001b[1;33m]\u001b[0m\u001b[1;33m,\u001b[0m \u001b[0maxis\u001b[0m\u001b[1;33m=\u001b[0m\u001b[1;36m1\u001b[0m\u001b[1;33m,\u001b[0m \u001b[0minplace\u001b[0m\u001b[1;33m=\u001b[0m\u001b[1;32mTrue\u001b[0m\u001b[1;33m)\u001b[0m\u001b[1;33m\u001b[0m\u001b[1;33m\u001b[0m\u001b[0m\n\u001b[0m",
      "\u001b[1;32md:\\repos\\venv\\lib\\site-packages\\pandas\\core\\frame.py\u001b[0m in \u001b[0;36mdrop\u001b[1;34m(self, labels, axis, index, columns, level, inplace, errors)\u001b[0m\n\u001b[0;32m   3988\u001b[0m                 \u001b[0mweight\u001b[0m  \u001b[1;36m1.0\u001b[0m     \u001b[1;36m0.8\u001b[0m\u001b[1;33m\u001b[0m\u001b[1;33m\u001b[0m\u001b[0m\n\u001b[0;32m   3989\u001b[0m         \"\"\"\n\u001b[1;32m-> 3990\u001b[1;33m         return super().drop(\n\u001b[0m\u001b[0;32m   3991\u001b[0m             \u001b[0mlabels\u001b[0m\u001b[1;33m=\u001b[0m\u001b[0mlabels\u001b[0m\u001b[1;33m,\u001b[0m\u001b[1;33m\u001b[0m\u001b[1;33m\u001b[0m\u001b[0m\n\u001b[0;32m   3992\u001b[0m             \u001b[0maxis\u001b[0m\u001b[1;33m=\u001b[0m\u001b[0maxis\u001b[0m\u001b[1;33m,\u001b[0m\u001b[1;33m\u001b[0m\u001b[1;33m\u001b[0m\u001b[0m\n",
      "\u001b[1;32md:\\repos\\venv\\lib\\site-packages\\pandas\\core\\generic.py\u001b[0m in \u001b[0;36mdrop\u001b[1;34m(self, labels, axis, index, columns, level, inplace, errors)\u001b[0m\n\u001b[0;32m   3934\u001b[0m         \u001b[1;32mfor\u001b[0m \u001b[0maxis\u001b[0m\u001b[1;33m,\u001b[0m \u001b[0mlabels\u001b[0m \u001b[1;32min\u001b[0m \u001b[0maxes\u001b[0m\u001b[1;33m.\u001b[0m\u001b[0mitems\u001b[0m\u001b[1;33m(\u001b[0m\u001b[1;33m)\u001b[0m\u001b[1;33m:\u001b[0m\u001b[1;33m\u001b[0m\u001b[1;33m\u001b[0m\u001b[0m\n\u001b[0;32m   3935\u001b[0m             \u001b[1;32mif\u001b[0m \u001b[0mlabels\u001b[0m \u001b[1;32mis\u001b[0m \u001b[1;32mnot\u001b[0m \u001b[1;32mNone\u001b[0m\u001b[1;33m:\u001b[0m\u001b[1;33m\u001b[0m\u001b[1;33m\u001b[0m\u001b[0m\n\u001b[1;32m-> 3936\u001b[1;33m                 \u001b[0mobj\u001b[0m \u001b[1;33m=\u001b[0m \u001b[0mobj\u001b[0m\u001b[1;33m.\u001b[0m\u001b[0m_drop_axis\u001b[0m\u001b[1;33m(\u001b[0m\u001b[0mlabels\u001b[0m\u001b[1;33m,\u001b[0m \u001b[0maxis\u001b[0m\u001b[1;33m,\u001b[0m \u001b[0mlevel\u001b[0m\u001b[1;33m=\u001b[0m\u001b[0mlevel\u001b[0m\u001b[1;33m,\u001b[0m \u001b[0merrors\u001b[0m\u001b[1;33m=\u001b[0m\u001b[0merrors\u001b[0m\u001b[1;33m)\u001b[0m\u001b[1;33m\u001b[0m\u001b[1;33m\u001b[0m\u001b[0m\n\u001b[0m\u001b[0;32m   3937\u001b[0m \u001b[1;33m\u001b[0m\u001b[0m\n\u001b[0;32m   3938\u001b[0m         \u001b[1;32mif\u001b[0m \u001b[0minplace\u001b[0m\u001b[1;33m:\u001b[0m\u001b[1;33m\u001b[0m\u001b[1;33m\u001b[0m\u001b[0m\n",
      "\u001b[1;32md:\\repos\\venv\\lib\\site-packages\\pandas\\core\\generic.py\u001b[0m in \u001b[0;36m_drop_axis\u001b[1;34m(self, labels, axis, level, errors)\u001b[0m\n\u001b[0;32m   3968\u001b[0m                 \u001b[0mnew_axis\u001b[0m \u001b[1;33m=\u001b[0m \u001b[0maxis\u001b[0m\u001b[1;33m.\u001b[0m\u001b[0mdrop\u001b[0m\u001b[1;33m(\u001b[0m\u001b[0mlabels\u001b[0m\u001b[1;33m,\u001b[0m \u001b[0mlevel\u001b[0m\u001b[1;33m=\u001b[0m\u001b[0mlevel\u001b[0m\u001b[1;33m,\u001b[0m \u001b[0merrors\u001b[0m\u001b[1;33m=\u001b[0m\u001b[0merrors\u001b[0m\u001b[1;33m)\u001b[0m\u001b[1;33m\u001b[0m\u001b[1;33m\u001b[0m\u001b[0m\n\u001b[0;32m   3969\u001b[0m             \u001b[1;32melse\u001b[0m\u001b[1;33m:\u001b[0m\u001b[1;33m\u001b[0m\u001b[1;33m\u001b[0m\u001b[0m\n\u001b[1;32m-> 3970\u001b[1;33m                 \u001b[0mnew_axis\u001b[0m \u001b[1;33m=\u001b[0m \u001b[0maxis\u001b[0m\u001b[1;33m.\u001b[0m\u001b[0mdrop\u001b[0m\u001b[1;33m(\u001b[0m\u001b[0mlabels\u001b[0m\u001b[1;33m,\u001b[0m \u001b[0merrors\u001b[0m\u001b[1;33m=\u001b[0m\u001b[0merrors\u001b[0m\u001b[1;33m)\u001b[0m\u001b[1;33m\u001b[0m\u001b[1;33m\u001b[0m\u001b[0m\n\u001b[0m\u001b[0;32m   3971\u001b[0m             \u001b[0mresult\u001b[0m \u001b[1;33m=\u001b[0m \u001b[0mself\u001b[0m\u001b[1;33m.\u001b[0m\u001b[0mreindex\u001b[0m\u001b[1;33m(\u001b[0m\u001b[1;33m**\u001b[0m\u001b[1;33m{\u001b[0m\u001b[0maxis_name\u001b[0m\u001b[1;33m:\u001b[0m \u001b[0mnew_axis\u001b[0m\u001b[1;33m}\u001b[0m\u001b[1;33m)\u001b[0m\u001b[1;33m\u001b[0m\u001b[1;33m\u001b[0m\u001b[0m\n\u001b[0;32m   3972\u001b[0m \u001b[1;33m\u001b[0m\u001b[0m\n",
      "\u001b[1;32md:\\repos\\venv\\lib\\site-packages\\pandas\\core\\indexes\\base.py\u001b[0m in \u001b[0;36mdrop\u001b[1;34m(self, labels, errors)\u001b[0m\n\u001b[0;32m   5015\u001b[0m         \u001b[1;32mif\u001b[0m \u001b[0mmask\u001b[0m\u001b[1;33m.\u001b[0m\u001b[0many\u001b[0m\u001b[1;33m(\u001b[0m\u001b[1;33m)\u001b[0m\u001b[1;33m:\u001b[0m\u001b[1;33m\u001b[0m\u001b[1;33m\u001b[0m\u001b[0m\n\u001b[0;32m   5016\u001b[0m             \u001b[1;32mif\u001b[0m \u001b[0merrors\u001b[0m \u001b[1;33m!=\u001b[0m \u001b[1;34m\"ignore\"\u001b[0m\u001b[1;33m:\u001b[0m\u001b[1;33m\u001b[0m\u001b[1;33m\u001b[0m\u001b[0m\n\u001b[1;32m-> 5017\u001b[1;33m                 \u001b[1;32mraise\u001b[0m \u001b[0mKeyError\u001b[0m\u001b[1;33m(\u001b[0m\u001b[1;34mf\"{labels[mask]} not found in axis\"\u001b[0m\u001b[1;33m)\u001b[0m\u001b[1;33m\u001b[0m\u001b[1;33m\u001b[0m\u001b[0m\n\u001b[0m\u001b[0;32m   5018\u001b[0m             \u001b[0mindexer\u001b[0m \u001b[1;33m=\u001b[0m \u001b[0mindexer\u001b[0m\u001b[1;33m[\u001b[0m\u001b[1;33m~\u001b[0m\u001b[0mmask\u001b[0m\u001b[1;33m]\u001b[0m\u001b[1;33m\u001b[0m\u001b[1;33m\u001b[0m\u001b[0m\n\u001b[0;32m   5019\u001b[0m         \u001b[1;32mreturn\u001b[0m \u001b[0mself\u001b[0m\u001b[1;33m.\u001b[0m\u001b[0mdelete\u001b[0m\u001b[1;33m(\u001b[0m\u001b[0mindexer\u001b[0m\u001b[1;33m)\u001b[0m\u001b[1;33m\u001b[0m\u001b[1;33m\u001b[0m\u001b[0m\n",
      "\u001b[1;31mKeyError\u001b[0m: \"['producer' 'others' 'notes' 'ref'] not found in axis\""
     ]
    }
   ],
   "source": [
    "new.drop(['producer', 'others','notes', 'ref'], axis=1, inplace=True)"
   ]
  },
  {
   "cell_type": "code",
   "execution_count": 25,
   "metadata": {},
   "outputs": [],
   "source": [
    "new.head()\n",
    "new['wet'] = \"No\"\n",
    "new.to_csv('hanks-actor.csv', index=False)"
   ]
  },
  {
   "cell_type": "code",
   "execution_count": null,
   "metadata": {},
   "outputs": [],
   "source": []
  }
 ],
 "metadata": {
  "language_info": {
   "codemirror_mode": {
    "name": "ipython",
    "version": 3
   },
   "file_extension": ".py",
   "mimetype": "text/x-python",
   "name": "python",
   "nbconvert_exporter": "python",
   "pygments_lexer": "ipython3",
   "version": "3.8.2-final"
  },
  "orig_nbformat": 2,
  "kernelspec": {
   "name": "python38264bitvenvvenv0a47f694c5b843fdb532b542209b5036",
   "display_name": "Python 3.8.2 64-bit ('venv': venv)"
  }
 },
 "nbformat": 4,
 "nbformat_minor": 2
}