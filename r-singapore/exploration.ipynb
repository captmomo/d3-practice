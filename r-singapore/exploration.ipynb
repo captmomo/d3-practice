{
 "metadata": {
  "language_info": {
   "codemirror_mode": {
    "name": "ipython",
    "version": 3
   },
   "file_extension": ".py",
   "mimetype": "text/x-python",
   "name": "python",
   "nbconvert_exporter": "python",
   "pygments_lexer": "ipython3",
   "version": "3.9.0-final"
  },
  "orig_nbformat": 2,
  "kernelspec": {
   "name": "python3",
   "display_name": "Python 3"
  }
 },
 "nbformat": 4,
 "nbformat_minor": 2,
 "cells": [
  {
   "cell_type": "code",
   "execution_count": 8,
   "metadata": {},
   "outputs": [],
   "source": [
    "import pandas as pd\n",
    "import json"
   ]
  },
  {
   "cell_type": "code",
   "execution_count": 58,
   "metadata": {},
   "outputs": [],
   "source": [
    "threads = []"
   ]
  },
  {
   "cell_type": "code",
   "execution_count": 59,
   "metadata": {},
   "outputs": [],
   "source": [
    "with open('first.json') as f:\n",
    "  data = json.load(f)"
   ]
  },
  {
   "cell_type": "code",
   "execution_count": 60,
   "metadata": {},
   "outputs": [],
   "source": [
    "for listing in data['data']['children']:\n",
    "    #print(listing['data']['num_comments'])\n",
    "    #print(listing['data']['created_utc'])\n",
    "    #print(listing['data']['url'])\n",
    "    threads.append(listing['data'])"
   ]
  },
  {
   "cell_type": "code",
   "execution_count": 61,
   "metadata": {
    "tags": []
   },
   "outputs": [],
   "source": [
    "with open('second.json') as f:\n",
    "  data = json.load(f)\n",
    "\n",
    "for listing in data['data']['children']:\n",
    "    #print(listing['data']['num_comments'])\n",
    "    #print(listing['data']['created_utc'])\n",
    "    #print(listing['data']['url'])\n",
    "    threads.append(listing['data'])"
   ]
  },
  {
   "cell_type": "code",
   "execution_count": null,
   "metadata": {},
   "outputs": [],
   "source": [
    "with open('third.json') as f:\n",
    "  data = json.load(f)\n",
    "\n",
    "for listing in data['data']['children']:\n",
    "    #print(listing['data']['num_comments'])\n",
    "    #print(listing['data']['created_utc'])\n",
    "    #print(listing['data']['url'])\n",
    "    threads.append(listing['data'])"
   ]
  },
  {
   "cell_type": "code",
   "execution_count": 62,
   "metadata": {},
   "outputs": [],
   "source": [
    "main = pd.DataFrame(threads)"
   ]
  },
  {
   "cell_type": "code",
   "execution_count": 63,
   "metadata": {},
   "outputs": [
    {
     "output_type": "execute_result",
     "data": {
      "text/plain": [
       "  approved_at_utc  subreddit  \\\n",
       "0  None            singapore   \n",
       "1  None            singapore   \n",
       "2  None            singapore   \n",
       "3  None            singapore   \n",
       "4  None            singapore   \n",
       "\n",
       "                                                                                               selftext  \\\n",
       "0  Talk about your day. Anything goes, but subreddit rules still apply. Please be polite to each other!   \n",
       "1  Talk about your day. Anything goes, but subreddit rules still apply. Please be polite to each other!   \n",
       "2  Talk about your day. Anything goes, but subreddit rules still apply. Please be polite to each other!   \n",
       "3  Talk about your day. Anything goes, but subreddit rules still apply. Please be polite to each other!   \n",
       "4  Talk about your day. Anything goes, but subreddit rules still apply. Please be polite to each other!   \n",
       "\n",
       "  author_fullname  saved mod_reason_title  gilded  clicked  \\\n",
       "0  t2_6l4z3        False  None             0       False     \n",
       "1  t2_6l4z3        False  None             0       False     \n",
       "2  t2_6l4z3        False  None             0       False     \n",
       "3  t2_6l4z3        False  None             0       False     \n",
       "4  t2_6l4z3        False  None             0       False     \n",
       "\n",
       "                                                                             title  \\\n",
       "0  /r/singapore random discussion and small questions thread for November 14, 2020   \n",
       "1  /r/singapore random discussion and small questions thread for November 13, 2020   \n",
       "2  /r/singapore random discussion and small questions thread for November 12, 2020   \n",
       "3  /r/singapore random discussion and small questions thread for November 11, 2020   \n",
       "4  /r/singapore random discussion and small questions thread for November 10, 2020   \n",
       "\n",
       "  link_flair_richtext  ... author_flair_text_color  \\\n",
       "0  []                  ...  None                     \n",
       "1  []                  ...  None                     \n",
       "2  []                  ...  None                     \n",
       "3  []                  ...  None                     \n",
       "4  []                  ...  None                     \n",
       "\n",
       "                                                                        permalink  \\\n",
       "0  /r/singapore/comments/jtpmsi/rsingapore_random_discussion_and_small_questions/   \n",
       "1  /r/singapore/comments/jt4c3t/rsingapore_random_discussion_and_small_questions/   \n",
       "2  /r/singapore/comments/jshkuw/rsingapore_random_discussion_and_small_questions/   \n",
       "3  /r/singapore/comments/jruqe5/rsingapore_random_discussion_and_small_questions/   \n",
       "4  /r/singapore/comments/jr7ju8/rsingapore_random_discussion_and_small_questions/   \n",
       "\n",
       "   parent_whitelist_status stickied  \\\n",
       "0  all_ads                  True      \n",
       "1  all_ads                  False     \n",
       "2  all_ads                  False     \n",
       "3  all_ads                  False     \n",
       "4  all_ads                  False     \n",
       "\n",
       "                                                                                                    url  \\\n",
       "0  https://www.reddit.com/r/singapore/comments/jtpmsi/rsingapore_random_discussion_and_small_questions/   \n",
       "1  https://www.reddit.com/r/singapore/comments/jt4c3t/rsingapore_random_discussion_and_small_questions/   \n",
       "2  https://www.reddit.com/r/singapore/comments/jshkuw/rsingapore_random_discussion_and_small_questions/   \n",
       "3  https://www.reddit.com/r/singapore/comments/jruqe5/rsingapore_random_discussion_and_small_questions/   \n",
       "4  https://www.reddit.com/r/singapore/comments/jr7ju8/rsingapore_random_discussion_and_small_questions/   \n",
       "\n",
       "  subreddit_subscribers   created_utc num_crossposts  media is_video  \n",
       "0  283038                1.605305e+09  0              None   False    \n",
       "1  283038                1.605219e+09  0              None   False    \n",
       "2  283038                1.605132e+09  0              None   False    \n",
       "3  283038                1.605046e+09  0              None   False    \n",
       "4  283038                1.604959e+09  0              None   False    \n",
       "\n",
       "[5 rows x 102 columns]"
      ],
      "text/html": "<div>\n<style scoped>\n    .dataframe tbody tr th:only-of-type {\n        vertical-align: middle;\n    }\n\n    .dataframe tbody tr th {\n        vertical-align: top;\n    }\n\n    .dataframe thead th {\n        text-align: right;\n    }\n</style>\n<table border=\"1\" class=\"dataframe\">\n  <thead>\n    <tr style=\"text-align: right;\">\n      <th></th>\n      <th>approved_at_utc</th>\n      <th>subreddit</th>\n      <th>selftext</th>\n      <th>author_fullname</th>\n      <th>saved</th>\n      <th>mod_reason_title</th>\n      <th>gilded</th>\n      <th>clicked</th>\n      <th>title</th>\n      <th>link_flair_richtext</th>\n      <th>...</th>\n      <th>author_flair_text_color</th>\n      <th>permalink</th>\n      <th>parent_whitelist_status</th>\n      <th>stickied</th>\n      <th>url</th>\n      <th>subreddit_subscribers</th>\n      <th>created_utc</th>\n      <th>num_crossposts</th>\n      <th>media</th>\n      <th>is_video</th>\n    </tr>\n  </thead>\n  <tbody>\n    <tr>\n      <th>0</th>\n      <td>None</td>\n      <td>singapore</td>\n      <td>Talk about your day. Anything goes, but subreddit rules still apply. Please be polite to each other!</td>\n      <td>t2_6l4z3</td>\n      <td>False</td>\n      <td>None</td>\n      <td>0</td>\n      <td>False</td>\n      <td>/r/singapore random discussion and small questions thread for November 14, 2020</td>\n      <td>[]</td>\n      <td>...</td>\n      <td>None</td>\n      <td>/r/singapore/comments/jtpmsi/rsingapore_random_discussion_and_small_questions/</td>\n      <td>all_ads</td>\n      <td>True</td>\n      <td>https://www.reddit.com/r/singapore/comments/jtpmsi/rsingapore_random_discussion_and_small_questions/</td>\n      <td>283038</td>\n      <td>1.605305e+09</td>\n      <td>0</td>\n      <td>None</td>\n      <td>False</td>\n    </tr>\n    <tr>\n      <th>1</th>\n      <td>None</td>\n      <td>singapore</td>\n      <td>Talk about your day. Anything goes, but subreddit rules still apply. Please be polite to each other!</td>\n      <td>t2_6l4z3</td>\n      <td>False</td>\n      <td>None</td>\n      <td>0</td>\n      <td>False</td>\n      <td>/r/singapore random discussion and small questions thread for November 13, 2020</td>\n      <td>[]</td>\n      <td>...</td>\n      <td>None</td>\n      <td>/r/singapore/comments/jt4c3t/rsingapore_random_discussion_and_small_questions/</td>\n      <td>all_ads</td>\n      <td>False</td>\n      <td>https://www.reddit.com/r/singapore/comments/jt4c3t/rsingapore_random_discussion_and_small_questions/</td>\n      <td>283038</td>\n      <td>1.605219e+09</td>\n      <td>0</td>\n      <td>None</td>\n      <td>False</td>\n    </tr>\n    <tr>\n      <th>2</th>\n      <td>None</td>\n      <td>singapore</td>\n      <td>Talk about your day. Anything goes, but subreddit rules still apply. Please be polite to each other!</td>\n      <td>t2_6l4z3</td>\n      <td>False</td>\n      <td>None</td>\n      <td>0</td>\n      <td>False</td>\n      <td>/r/singapore random discussion and small questions thread for November 12, 2020</td>\n      <td>[]</td>\n      <td>...</td>\n      <td>None</td>\n      <td>/r/singapore/comments/jshkuw/rsingapore_random_discussion_and_small_questions/</td>\n      <td>all_ads</td>\n      <td>False</td>\n      <td>https://www.reddit.com/r/singapore/comments/jshkuw/rsingapore_random_discussion_and_small_questions/</td>\n      <td>283038</td>\n      <td>1.605132e+09</td>\n      <td>0</td>\n      <td>None</td>\n      <td>False</td>\n    </tr>\n    <tr>\n      <th>3</th>\n      <td>None</td>\n      <td>singapore</td>\n      <td>Talk about your day. Anything goes, but subreddit rules still apply. Please be polite to each other!</td>\n      <td>t2_6l4z3</td>\n      <td>False</td>\n      <td>None</td>\n      <td>0</td>\n      <td>False</td>\n      <td>/r/singapore random discussion and small questions thread for November 11, 2020</td>\n      <td>[]</td>\n      <td>...</td>\n      <td>None</td>\n      <td>/r/singapore/comments/jruqe5/rsingapore_random_discussion_and_small_questions/</td>\n      <td>all_ads</td>\n      <td>False</td>\n      <td>https://www.reddit.com/r/singapore/comments/jruqe5/rsingapore_random_discussion_and_small_questions/</td>\n      <td>283038</td>\n      <td>1.605046e+09</td>\n      <td>0</td>\n      <td>None</td>\n      <td>False</td>\n    </tr>\n    <tr>\n      <th>4</th>\n      <td>None</td>\n      <td>singapore</td>\n      <td>Talk about your day. Anything goes, but subreddit rules still apply. Please be polite to each other!</td>\n      <td>t2_6l4z3</td>\n      <td>False</td>\n      <td>None</td>\n      <td>0</td>\n      <td>False</td>\n      <td>/r/singapore random discussion and small questions thread for November 10, 2020</td>\n      <td>[]</td>\n      <td>...</td>\n      <td>None</td>\n      <td>/r/singapore/comments/jr7ju8/rsingapore_random_discussion_and_small_questions/</td>\n      <td>all_ads</td>\n      <td>False</td>\n      <td>https://www.reddit.com/r/singapore/comments/jr7ju8/rsingapore_random_discussion_and_small_questions/</td>\n      <td>283038</td>\n      <td>1.604959e+09</td>\n      <td>0</td>\n      <td>None</td>\n      <td>False</td>\n    </tr>\n  </tbody>\n</table>\n<p>5 rows × 102 columns</p>\n</div>"
     },
     "metadata": {},
     "execution_count": 63
    }
   ],
   "source": [
    "main.head()"
   ]
  },
  {
   "cell_type": "code",
   "execution_count": 64,
   "metadata": {},
   "outputs": [
    {
     "output_type": "execute_result",
     "data": {
      "text/plain": [
       "(200, 102)"
      ]
     },
     "metadata": {},
     "execution_count": 64
    }
   ],
   "source": [
    "main.shape"
   ]
  },
  {
   "cell_type": "code",
   "execution_count": 65,
   "metadata": {},
   "outputs": [],
   "source": [
    "filtered = main[['num_comments', 'created_utc', 'url']].copy()"
   ]
  },
  {
   "cell_type": "code",
   "execution_count": 66,
   "metadata": {},
   "outputs": [
    {
     "output_type": "execute_result",
     "data": {
      "text/plain": [
       "   num_comments   created_utc  \\\n",
       "0  862           1.605305e+09   \n",
       "1  1798          1.605219e+09   \n",
       "2  1662          1.605132e+09   \n",
       "3  1676          1.605046e+09   \n",
       "4  1429          1.604959e+09   \n",
       "\n",
       "                                                                                                    url  \n",
       "0  https://www.reddit.com/r/singapore/comments/jtpmsi/rsingapore_random_discussion_and_small_questions/  \n",
       "1  https://www.reddit.com/r/singapore/comments/jt4c3t/rsingapore_random_discussion_and_small_questions/  \n",
       "2  https://www.reddit.com/r/singapore/comments/jshkuw/rsingapore_random_discussion_and_small_questions/  \n",
       "3  https://www.reddit.com/r/singapore/comments/jruqe5/rsingapore_random_discussion_and_small_questions/  \n",
       "4  https://www.reddit.com/r/singapore/comments/jr7ju8/rsingapore_random_discussion_and_small_questions/  "
      ],
      "text/html": "<div>\n<style scoped>\n    .dataframe tbody tr th:only-of-type {\n        vertical-align: middle;\n    }\n\n    .dataframe tbody tr th {\n        vertical-align: top;\n    }\n\n    .dataframe thead th {\n        text-align: right;\n    }\n</style>\n<table border=\"1\" class=\"dataframe\">\n  <thead>\n    <tr style=\"text-align: right;\">\n      <th></th>\n      <th>num_comments</th>\n      <th>created_utc</th>\n      <th>url</th>\n    </tr>\n  </thead>\n  <tbody>\n    <tr>\n      <th>0</th>\n      <td>862</td>\n      <td>1.605305e+09</td>\n      <td>https://www.reddit.com/r/singapore/comments/jtpmsi/rsingapore_random_discussion_and_small_questions/</td>\n    </tr>\n    <tr>\n      <th>1</th>\n      <td>1798</td>\n      <td>1.605219e+09</td>\n      <td>https://www.reddit.com/r/singapore/comments/jt4c3t/rsingapore_random_discussion_and_small_questions/</td>\n    </tr>\n    <tr>\n      <th>2</th>\n      <td>1662</td>\n      <td>1.605132e+09</td>\n      <td>https://www.reddit.com/r/singapore/comments/jshkuw/rsingapore_random_discussion_and_small_questions/</td>\n    </tr>\n    <tr>\n      <th>3</th>\n      <td>1676</td>\n      <td>1.605046e+09</td>\n      <td>https://www.reddit.com/r/singapore/comments/jruqe5/rsingapore_random_discussion_and_small_questions/</td>\n    </tr>\n    <tr>\n      <th>4</th>\n      <td>1429</td>\n      <td>1.604959e+09</td>\n      <td>https://www.reddit.com/r/singapore/comments/jr7ju8/rsingapore_random_discussion_and_small_questions/</td>\n    </tr>\n  </tbody>\n</table>\n</div>"
     },
     "metadata": {},
     "execution_count": 66
    }
   ],
   "source": [
    "filtered.head()\n",
    "\n"
   ]
  },
  {
   "cell_type": "code",
   "execution_count": 67,
   "metadata": {},
   "outputs": [],
   "source": [
    "filtered.to_json('full.json', orient='records')"
   ]
  },
  {
   "cell_type": "code",
   "execution_count": 29,
   "metadata": {},
   "outputs": [
    {
     "output_type": "execute_result",
     "data": {
      "text/plain": [
       "   all_awardings  allow_live_comments         author author_flair_css_class  \\\n",
       "43            []                 True  AutoModerator                   None   \n",
       "43            []                 True  AutoModerator                   None   \n",
       "43            []                False  AutoModerator                   None   \n",
       "\n",
       "   author_flair_richtext author_flair_text author_flair_type author_fullname  \\\n",
       "43                    []              None              text        t2_6l4z3   \n",
       "43                    []              None              text        t2_6l4z3   \n",
       "43                    []              None              text        t2_6l4z3   \n",
       "\n",
       "    author_patreon_flair  author_premium  ... suggested_sort  thumbnail  \\\n",
       "43                 False            True  ...            new       self   \n",
       "43                 False            True  ...            new       self   \n",
       "43                 False            True  ...            new       self   \n",
       "\n",
       "                                                title  total_awards_received  \\\n",
       "43  /r/singapore random discussion and small quest...                      0   \n",
       "43  /r/singapore random discussion and small quest...                      0   \n",
       "43  /r/singapore random discussion and small quest...                      0   \n",
       "\n",
       "                                                  url whitelist_status wls  \\\n",
       "43  https://www.reddit.com/r/singapore/comments/fz...          all_ads   6   \n",
       "43  https://www.reddit.com/r/singapore/comments/hu...          all_ads   6   \n",
       "43  https://www.reddit.com/r/singapore/comments/jk...          all_ads   6   \n",
       "\n",
       "   distinguished  treatment_tags  upvote_ratio  \n",
       "43     moderator              []           NaN  \n",
       "43     moderator              []          0.74  \n",
       "43     moderator              []          1.00  \n",
       "\n",
       "[3 rows x 59 columns]"
      ],
      "text/html": "<div>\n<style scoped>\n    .dataframe tbody tr th:only-of-type {\n        vertical-align: middle;\n    }\n\n    .dataframe tbody tr th {\n        vertical-align: top;\n    }\n\n    .dataframe thead th {\n        text-align: right;\n    }\n</style>\n<table border=\"1\" class=\"dataframe\">\n  <thead>\n    <tr style=\"text-align: right;\">\n      <th></th>\n      <th>all_awardings</th>\n      <th>allow_live_comments</th>\n      <th>author</th>\n      <th>author_flair_css_class</th>\n      <th>author_flair_richtext</th>\n      <th>author_flair_text</th>\n      <th>author_flair_type</th>\n      <th>author_fullname</th>\n      <th>author_patreon_flair</th>\n      <th>author_premium</th>\n      <th>...</th>\n      <th>suggested_sort</th>\n      <th>thumbnail</th>\n      <th>title</th>\n      <th>total_awards_received</th>\n      <th>url</th>\n      <th>whitelist_status</th>\n      <th>wls</th>\n      <th>distinguished</th>\n      <th>treatment_tags</th>\n      <th>upvote_ratio</th>\n    </tr>\n  </thead>\n  <tbody>\n    <tr>\n      <th>43</th>\n      <td>[]</td>\n      <td>True</td>\n      <td>AutoModerator</td>\n      <td>None</td>\n      <td>[]</td>\n      <td>None</td>\n      <td>text</td>\n      <td>t2_6l4z3</td>\n      <td>False</td>\n      <td>True</td>\n      <td>...</td>\n      <td>new</td>\n      <td>self</td>\n      <td>/r/singapore random discussion and small quest...</td>\n      <td>0</td>\n      <td>https://www.reddit.com/r/singapore/comments/fz...</td>\n      <td>all_ads</td>\n      <td>6</td>\n      <td>moderator</td>\n      <td>[]</td>\n      <td>NaN</td>\n    </tr>\n    <tr>\n      <th>43</th>\n      <td>[]</td>\n      <td>True</td>\n      <td>AutoModerator</td>\n      <td>None</td>\n      <td>[]</td>\n      <td>None</td>\n      <td>text</td>\n      <td>t2_6l4z3</td>\n      <td>False</td>\n      <td>True</td>\n      <td>...</td>\n      <td>new</td>\n      <td>self</td>\n      <td>/r/singapore random discussion and small quest...</td>\n      <td>0</td>\n      <td>https://www.reddit.com/r/singapore/comments/hu...</td>\n      <td>all_ads</td>\n      <td>6</td>\n      <td>moderator</td>\n      <td>[]</td>\n      <td>0.74</td>\n    </tr>\n    <tr>\n      <th>43</th>\n      <td>[]</td>\n      <td>False</td>\n      <td>AutoModerator</td>\n      <td>None</td>\n      <td>[]</td>\n      <td>None</td>\n      <td>text</td>\n      <td>t2_6l4z3</td>\n      <td>False</td>\n      <td>True</td>\n      <td>...</td>\n      <td>new</td>\n      <td>self</td>\n      <td>/r/singapore random discussion and small quest...</td>\n      <td>0</td>\n      <td>https://www.reddit.com/r/singapore/comments/jk...</td>\n      <td>all_ads</td>\n      <td>6</td>\n      <td>moderator</td>\n      <td>[]</td>\n      <td>1.00</td>\n    </tr>\n  </tbody>\n</table>\n<p>3 rows × 59 columns</p>\n</div>"
     },
     "metadata": {},
     "execution_count": 29
    }
   ],
   "source": [
    " result.loc[result['num_comments'].idxmax()]"
   ]
  },
  {
   "cell_type": "code",
   "execution_count": 35,
   "metadata": {},
   "outputs": [
    {
     "output_type": "execute_result",
     "data": {
      "text/plain": [
       "   all_awardings  allow_live_comments         author author_flair_css_class  \\\n",
       "49            []                False  AutoModerator                   None   \n",
       "\n",
       "   author_flair_richtext author_flair_text author_flair_type author_fullname  \\\n",
       "49                    []              None              text        t2_6l4z3   \n",
       "\n",
       "    author_patreon_flair  author_premium  ... suggested_sort  thumbnail  \\\n",
       "49                 False            True  ...            new       self   \n",
       "\n",
       "                                                title  total_awards_received  \\\n",
       "49  /r/singapore random discussion and small quest...                      0   \n",
       "\n",
       "                                                  url whitelist_status wls  \\\n",
       "49  https://www.reddit.com/r/singapore/comments/jo...          all_ads   6   \n",
       "\n",
       "   distinguished  treatment_tags  upvote_ratio  \n",
       "49     moderator              []           1.0  \n",
       "\n",
       "[1 rows x 59 columns]"
      ],
      "text/html": "<div>\n<style scoped>\n    .dataframe tbody tr th:only-of-type {\n        vertical-align: middle;\n    }\n\n    .dataframe tbody tr th {\n        vertical-align: top;\n    }\n\n    .dataframe thead th {\n        text-align: right;\n    }\n</style>\n<table border=\"1\" class=\"dataframe\">\n  <thead>\n    <tr style=\"text-align: right;\">\n      <th></th>\n      <th>all_awardings</th>\n      <th>allow_live_comments</th>\n      <th>author</th>\n      <th>author_flair_css_class</th>\n      <th>author_flair_richtext</th>\n      <th>author_flair_text</th>\n      <th>author_flair_type</th>\n      <th>author_fullname</th>\n      <th>author_patreon_flair</th>\n      <th>author_premium</th>\n      <th>...</th>\n      <th>suggested_sort</th>\n      <th>thumbnail</th>\n      <th>title</th>\n      <th>total_awards_received</th>\n      <th>url</th>\n      <th>whitelist_status</th>\n      <th>wls</th>\n      <th>distinguished</th>\n      <th>treatment_tags</th>\n      <th>upvote_ratio</th>\n    </tr>\n  </thead>\n  <tbody>\n    <tr>\n      <th>49</th>\n      <td>[]</td>\n      <td>False</td>\n      <td>AutoModerator</td>\n      <td>None</td>\n      <td>[]</td>\n      <td>None</td>\n      <td>text</td>\n      <td>t2_6l4z3</td>\n      <td>False</td>\n      <td>True</td>\n      <td>...</td>\n      <td>new</td>\n      <td>self</td>\n      <td>/r/singapore random discussion and small quest...</td>\n      <td>0</td>\n      <td>https://www.reddit.com/r/singapore/comments/jo...</td>\n      <td>all_ads</td>\n      <td>6</td>\n      <td>moderator</td>\n      <td>[]</td>\n      <td>1.0</td>\n    </tr>\n  </tbody>\n</table>\n<p>1 rows × 59 columns</p>\n</div>"
     },
     "metadata": {},
     "execution_count": 35
    }
   ],
   "source": [
    "result[result['num_comments']==result['num_comments'].min()]"
   ]
  },
  {
   "cell_type": "code",
   "execution_count": 36,
   "metadata": {},
   "outputs": [],
   "source": [
    "filtered = result[['num_comments', 'created_utc', 'url']].copy()"
   ]
  },
  {
   "cell_type": "code",
   "execution_count": 33,
   "metadata": {},
   "outputs": [
    {
     "output_type": "execute_result",
     "data": {
      "text/plain": [
       "(258, 2)"
      ]
     },
     "metadata": {},
     "execution_count": 33
    }
   ],
   "source": [
    "filtered.shape"
   ]
  },
  {
   "cell_type": "code",
   "execution_count": 38,
   "metadata": {},
   "outputs": [],
   "source": [
    "pd.options.display.max_seq_items = 2000"
   ]
  },
  {
   "cell_type": "code",
   "execution_count": 40,
   "metadata": {},
   "outputs": [],
   "source": [
    "pd.set_option('display.max_colwidth', -1)"
   ]
  },
  {
   "cell_type": "code",
   "execution_count": 41,
   "metadata": {},
   "outputs": [
    {
     "output_type": "execute_result",
     "data": {
      "text/plain": [
       "    num_comments  created_utc  \\\n",
       "49  26            1604527504    \n",
       "\n",
       "                                                                                                     url  \n",
       "49  https://www.reddit.com/r/singapore/comments/jo6225/rsingapore_random_discussion_and_small_questions/  "
      ],
      "text/html": "<div>\n<style scoped>\n    .dataframe tbody tr th:only-of-type {\n        vertical-align: middle;\n    }\n\n    .dataframe tbody tr th {\n        vertical-align: top;\n    }\n\n    .dataframe thead th {\n        text-align: right;\n    }\n</style>\n<table border=\"1\" class=\"dataframe\">\n  <thead>\n    <tr style=\"text-align: right;\">\n      <th></th>\n      <th>num_comments</th>\n      <th>created_utc</th>\n      <th>url</th>\n    </tr>\n  </thead>\n  <tbody>\n    <tr>\n      <th>49</th>\n      <td>26</td>\n      <td>1604527504</td>\n      <td>https://www.reddit.com/r/singapore/comments/jo6225/rsingapore_random_discussion_and_small_questions/</td>\n    </tr>\n  </tbody>\n</table>\n</div>"
     },
     "metadata": {},
     "execution_count": 41
    }
   ],
   "source": [
    "filtered[filtered['num_comments']==filtered['num_comments'].min()]"
   ]
  },
  {
   "cell_type": "code",
   "execution_count": 34,
   "metadata": {},
   "outputs": [],
   "source": [
    "filtered.to_json('full.json', orient='records')"
   ]
  },
  {
   "cell_type": "code",
   "execution_count": null,
   "metadata": {},
   "outputs": [],
   "source": []
  }
 ]
}